{
 "cells": [
  {
   "cell_type": "code",
   "execution_count": 1,
   "id": "0bab30d8",
   "metadata": {},
   "outputs": [
    {
     "name": "stderr",
     "output_type": "stream",
     "text": [
      "/home/michelml/miniconda3/envs/bingoel/lib/python3.9/site-packages/tqdm/auto.py:22: TqdmWarning: IProgress not found. Please update jupyter and ipywidgets. See https://ipywidgets.readthedocs.io/en/stable/user_install.html\n",
      "  from .autonotebook import tqdm as notebook_tqdm\n"
     ]
    }
   ],
   "source": [
    "import datamol as dm\n",
    "from fastapi import FastAPI\n",
    "from bingo_elastic.elastic import ElasticRepository, IndexName\n",
    "from bingo_elastic.model.record import (\n",
    "    IndigoRecord,\n",
    "    IndigoRecordMolecule,\n",
    ")\n",
    "from bingo_elastic.model import helpers\n",
    "from bingo_elastic.queries import SimilarityMatch"
   ]
  },
  {
   "cell_type": "code",
   "execution_count": 2,
   "id": "32a976d9",
   "metadata": {},
   "outputs": [],
   "source": [
    "repository = ElasticRepository(IndexName.BINGO_MOLECULE, host=\"127.0.0.1\", port=9200)"
   ]
  },
  {
   "cell_type": "code",
   "execution_count": 29,
   "id": "3299b3e5",
   "metadata": {},
   "outputs": [],
   "source": [
    "sdf = helpers.iterate_sdf(\"molecules.sdf\")\n",
    "mol_list = sdf\n",
    "repository.index_records(sdf)"
   ]
  },
  {
   "cell_type": "code",
   "execution_count": 30,
   "id": "a0f0968d",
   "metadata": {},
   "outputs": [],
   "source": [
    "for record in mol_list:\n",
    "    test_mol = record\n",
    "    break"
   ]
  },
  {
   "cell_type": "code",
   "execution_count": 32,
   "id": "8f3ebc2a",
   "metadata": {},
   "outputs": [
    {
     "name": "stderr",
     "output_type": "stream",
     "text": [
      "/home/michelml/miniconda3/envs/bingoel/lib/python3.9/site-packages/elasticsearch/connection/base.py:200: ElasticsearchWarning: Elasticsearch built-in security features are not enabled. Without authentication, your cluster could be accessible to anyone. See https://www.elastic.co/guide/en/elasticsearch/reference/7.15/security-minimal-setup.html to enable security.\n",
      "  warnings.warn(message, category=ElasticsearchWarning)\n"
     ]
    }
   ],
   "source": [
    "alg = SimilarityMatch(test_mol, 0.9)\n",
    "similar_records = repository.filter(similarity=alg, limit=20)\n",
    "recs = list(similar_records)"
   ]
  },
  {
   "cell_type": "code",
   "execution_count": 38,
   "id": "332888db",
   "metadata": {},
   "outputs": [
    {
     "name": "stdout",
     "output_type": "stream",
     "text": [
      "['__annotations__', '__class__', '__delattr__', '__dict__', '__dir__', '__doc__', '__eq__', '__format__', '__ge__', '__getattribute__', '__gt__', '__hash__', '__init__', '__init_subclass__', '__le__', '__lt__', '__module__', '__ne__', '__new__', '__reduce__', '__reduce_ex__', '__repr__', '__setattr__', '__sizeof__', '__str__', '__subclasshook__', '__weakref__', 'as_dict', 'as_indigo_object', 'cmf', 'elastic_response', 'error_handler', 'indigo_object', 'name', 'record_id', 'sim_fingerprint', 'sub_fingerprint']\n"
     ]
    }
   ],
   "source": [
    "for record in recs:\n",
    "    print(dir(record))\n",
    "    break"
   ]
  },
  {
   "cell_type": "code",
   "execution_count": 39,
   "id": "5059051d",
   "metadata": {},
   "outputs": [
    {
     "name": "stdout",
     "output_type": "stream",
     "text": [
      "\n"
     ]
    }
   ],
   "source": [
    "for record in recs:\n",
    "    print(record.name)\n",
    "    break"
   ]
  },
  {
   "cell_type": "code",
   "execution_count": null,
   "id": "67b39f44",
   "metadata": {},
   "outputs": [],
   "source": []
  }
 ],
 "metadata": {
  "kernelspec": {
   "display_name": "Python 3 (ipykernel)",
   "language": "python",
   "name": "python3"
  },
  "language_info": {
   "codemirror_mode": {
    "name": "ipython",
    "version": 3
   },
   "file_extension": ".py",
   "mimetype": "text/x-python",
   "name": "python",
   "nbconvert_exporter": "python",
   "pygments_lexer": "ipython3",
   "version": "3.9.7"
  }
 },
 "nbformat": 4,
 "nbformat_minor": 5
}
