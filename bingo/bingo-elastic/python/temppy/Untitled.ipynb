{
 "cells": [
  {
   "cell_type": "code",
   "execution_count": 9,
   "id": "c03fb714",
   "metadata": {},
   "outputs": [],
   "source": [
    "from fastapi import FastAPI\n",
    "from bingo_elastic.elastic import ElasticRepository, IndexName\n",
    "from bingo_elastic.model.record import (\n",
    "    IndigoRecord,\n",
    "    IndigoRecordMolecule,\n",
    ")"
   ]
  },
  {
   "cell_type": "code",
   "execution_count": 11,
   "id": "8a99f4fd",
   "metadata": {},
   "outputs": [],
   "source": [
    "repository = ElasticRepository(IndexName.BINGO_MOLECULE, host=\"127.0.0.1\", port=9200)"
   ]
  },
  {
   "cell_type": "code",
   "execution_count": null,
   "id": "6632ccfd",
   "metadata": {},
   "outputs": [],
   "source": []
  }
 ],
 "metadata": {
  "kernelspec": {
   "display_name": "Python 3 (ipykernel)",
   "language": "python",
   "name": "python3"
  },
  "language_info": {
   "codemirror_mode": {
    "name": "ipython",
    "version": 3
   },
   "file_extension": ".py",
   "mimetype": "text/x-python",
   "name": "python",
   "nbconvert_exporter": "python",
   "pygments_lexer": "ipython3",
   "version": "3.9.7"
  }
 },
 "nbformat": 4,
 "nbformat_minor": 5
}
